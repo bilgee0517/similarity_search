{
 "cells": [
  {
   "cell_type": "code",
   "execution_count": 1,
   "metadata": {},
   "outputs": [],
   "source": [
    "from utils.hnsw_module import *\n",
    "import pandas as pd\n",
    "from utils.evaluation import * "
   ]
  },
  {
   "cell_type": "code",
   "execution_count": 3,
   "metadata": {},
   "outputs": [],
   "source": [
    "data = pd.read_csv('data/embeddings_films.csv', usecols=[i for i in range(2, 386)])\n",
    "len(data)\n",
    "train_data = data[:20000]\n",
    "test_data = np.array(data[20000:])"
   ]
  },
  {
   "cell_type": "code",
   "execution_count": 4,
   "metadata": {},
   "outputs": [],
   "source": [
    "from tqdm import tqdm\n",
    "\n",
    "hnsw = HNSW('euclidean', m=4, ef=20)\n"
   ]
  },
  {
   "cell_type": "code",
   "execution_count": 20,
   "metadata": {},
   "outputs": [
    {
     "name": "stderr",
     "output_type": "stream",
     "text": [
      "  0%|          | 0/20000 [00:00<?, ?it/s]"
     ]
    },
    {
     "name": "stderr",
     "output_type": "stream",
     "text": [
      "100%|██████████| 20000/20000 [06:07<00:00, 54.45it/s] \n"
     ]
    }
   ],
   "source": [
    "for i in tqdm(range(20000)):\n",
    "    hnsw.add(train_data.loc[i])"
   ]
  },
  {
   "cell_type": "code",
   "execution_count": 5,
   "metadata": {},
   "outputs": [],
   "source": [
    "hnsw.load_graph(\"saved_graphs/film_m4_ef20\")"
   ]
  },
  {
   "cell_type": "code",
   "execution_count": 6,
   "metadata": {},
   "outputs": [
    {
     "name": "stdout",
     "output_type": "stream",
     "text": [
      "Layer 0: 20000 elements\n",
      "Layer 1: 5026 elements\n",
      "Layer 2: 1293 elements\n",
      "Layer 3: 282 elements\n",
      "Layer 4: 71 elements\n",
      "Layer 5: 21 elements\n",
      "Layer 6: 6 elements\n",
      "Layer 7: 3 elements\n"
     ]
    }
   ],
   "source": [
    "hnsw.print_layer_sizes()"
   ]
  },
  {
   "cell_type": "code",
   "execution_count": 7,
   "metadata": {},
   "outputs": [
    {
     "name": "stderr",
     "output_type": "stream",
     "text": [
      "  0%|          | 0/1000 [00:00<?, ?it/s]"
     ]
    },
    {
     "name": "stderr",
     "output_type": "stream",
     "text": [
      "100%|██████████| 1000/1000 [00:22<00:00, 45.30it/s]"
     ]
    },
    {
     "name": "stdout",
     "output_type": "stream",
     "text": [
      "Recall@1: 0.4090, Recall@10: 0.4029, Smetric@9: 18.4370\n"
     ]
    },
    {
     "name": "stderr",
     "output_type": "stream",
     "text": [
      "\n"
     ]
    }
   ],
   "source": [
    "# Example usage:\n",
    "# Assuming train_data, test_data, and hnsw are already defined\n",
    "evaluator = KNNEvaluation(train_data[:20000], test_data[:1000], hnsw, k=10, ef=10, metric='euclidean')\n",
    "\n",
    "# Evaluate recall\n",
    "recall_at_1, recall_at_10, smetric = evaluator.evaluate_recall()\n",
    "print(f\"Recall@1: {recall_at_1:.4f}, Recall@10: {recall_at_10:.4f}, Smetric@9: {smetric:.4f}\")"
   ]
  },
  {
   "cell_type": "code",
   "execution_count": 8,
   "metadata": {},
   "outputs": [
    {
     "name": "stderr",
     "output_type": "stream",
     "text": [
      "100%|██████████| 1000/1000 [00:19<00:00, 50.49it/s]\n"
     ]
    },
    {
     "data": {
      "text/plain": [
       "(0.011192639350891114, 0.00843322229385376)"
      ]
     },
     "execution_count": 8,
     "metadata": {},
     "output_type": "execute_result"
    }
   ],
   "source": [
    "evaluator.compare_time()"
   ]
  },
  {
   "cell_type": "code",
   "execution_count": 9,
   "metadata": {},
   "outputs": [
    {
     "name": "stdout",
     "output_type": "stream",
     "text": [
      "7.53 ms ± 861 µs per loop (mean ± std. dev. of 7 runs, 100 loops each)\n"
     ]
    }
   ],
   "source": [
    "%%timeit \n",
    "hnsw.search(test_data[0], k=10, ef = 10)"
   ]
  },
  {
   "cell_type": "code",
   "execution_count": null,
   "metadata": {},
   "outputs": [],
   "source": []
  }
 ],
 "metadata": {
  "kernelspec": {
   "display_name": "base",
   "language": "python",
   "name": "python3"
  },
  "language_info": {
   "codemirror_mode": {
    "name": "ipython",
    "version": 3
   },
   "file_extension": ".py",
   "mimetype": "text/x-python",
   "name": "python",
   "nbconvert_exporter": "python",
   "pygments_lexer": "ipython3",
   "version": "3.12.2"
  }
 },
 "nbformat": 4,
 "nbformat_minor": 2
}

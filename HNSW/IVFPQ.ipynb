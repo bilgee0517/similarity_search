{
 "cells": [
  {
   "cell_type": "code",
   "execution_count": 1,
   "metadata": {},
   "outputs": [],
   "source": [
    "from utils.hnsw_module import *\n",
    "import pandas as pd\n",
    "from utils.evaluation import * \n",
    "data = pd.read_csv('data/embeddings_films.csv', usecols=[i for i in range(2, 386)])\n",
    "train_data = data[:20000]\n",
    "test_data = data[20000:]\n",
    "\n",
    "train_data = train_data.to_numpy()\n",
    "test_data = test_data.to_numpy()"
   ]
  },
  {
   "cell_type": "code",
   "execution_count": 2,
   "metadata": {},
   "outputs": [],
   "source": [
    "train_data = train_data.astype(np.float32)\n",
    "test_data = test_data.astype(np.float32)"
   ]
  },
  {
   "cell_type": "code",
   "execution_count": 3,
   "metadata": {},
   "outputs": [],
   "source": [
    "from utils.CustomFAISS import *"
   ]
  },
  {
   "cell_type": "code",
   "execution_count": 4,
   "metadata": {},
   "outputs": [],
   "source": [
    "from utils.IVFPQ import CustomIVFPQ"
   ]
  },
  {
   "cell_type": "code",
   "execution_count": 5,
   "metadata": {},
   "outputs": [
    {
     "name": "stdout",
     "output_type": "stream",
     "text": [
      "Training the index...\n",
      "Training data shape after PCA (if applied): (20000, 384)\n",
      "Training PQ on cluster 0, segment 0, data shape: (2990, 48)\n",
      "Training PQ on cluster 0, segment 1, data shape: (2990, 48)\n",
      "Training PQ on cluster 0, segment 2, data shape: (2990, 48)\n",
      "Training PQ on cluster 0, segment 3, data shape: (2990, 48)\n",
      "Training PQ on cluster 0, segment 4, data shape: (2990, 48)\n",
      "Training PQ on cluster 0, segment 5, data shape: (2990, 48)\n",
      "Training PQ on cluster 0, segment 6, data shape: (2990, 48)\n",
      "Training PQ on cluster 0, segment 7, data shape: (2990, 48)\n",
      "Training PQ on cluster 1, segment 0, data shape: (4417, 48)\n",
      "Training PQ on cluster 1, segment 1, data shape: (4417, 48)\n",
      "Training PQ on cluster 1, segment 2, data shape: (4417, 48)\n",
      "Training PQ on cluster 1, segment 3, data shape: (4417, 48)\n",
      "Training PQ on cluster 1, segment 4, data shape: (4417, 48)\n",
      "Training PQ on cluster 1, segment 5, data shape: (4417, 48)\n",
      "Training PQ on cluster 1, segment 6, data shape: (4417, 48)\n",
      "Training PQ on cluster 1, segment 7, data shape: (4417, 48)\n",
      "Training PQ on cluster 2, segment 0, data shape: (1959, 48)\n"
     ]
    },
    {
     "name": "stderr",
     "output_type": "stream",
     "text": [
      "c:\\Users\\billya\\AppData\\Local\\miniconda3\\Lib\\site-packages\\sklearn\\cluster\\_kmeans.py:1426: UserWarning: KMeans is known to have a memory leak on Windows with MKL, when there are less chunks than available threads. You can avoid it by setting the environment variable OMP_NUM_THREADS=8.\n",
      "  warnings.warn(\n"
     ]
    },
    {
     "name": "stdout",
     "output_type": "stream",
     "text": [
      "Training PQ on cluster 2, segment 1, data shape: (1959, 48)\n"
     ]
    },
    {
     "name": "stderr",
     "output_type": "stream",
     "text": [
      "c:\\Users\\billya\\AppData\\Local\\miniconda3\\Lib\\site-packages\\sklearn\\cluster\\_kmeans.py:1426: UserWarning: KMeans is known to have a memory leak on Windows with MKL, when there are less chunks than available threads. You can avoid it by setting the environment variable OMP_NUM_THREADS=8.\n",
      "  warnings.warn(\n"
     ]
    },
    {
     "name": "stdout",
     "output_type": "stream",
     "text": [
      "Training PQ on cluster 2, segment 2, data shape: (1959, 48)\n"
     ]
    },
    {
     "name": "stderr",
     "output_type": "stream",
     "text": [
      "c:\\Users\\billya\\AppData\\Local\\miniconda3\\Lib\\site-packages\\sklearn\\cluster\\_kmeans.py:1426: UserWarning: KMeans is known to have a memory leak on Windows with MKL, when there are less chunks than available threads. You can avoid it by setting the environment variable OMP_NUM_THREADS=8.\n",
      "  warnings.warn(\n"
     ]
    },
    {
     "name": "stdout",
     "output_type": "stream",
     "text": [
      "Training PQ on cluster 2, segment 3, data shape: (1959, 48)\n"
     ]
    },
    {
     "name": "stderr",
     "output_type": "stream",
     "text": [
      "c:\\Users\\billya\\AppData\\Local\\miniconda3\\Lib\\site-packages\\sklearn\\cluster\\_kmeans.py:1426: UserWarning: KMeans is known to have a memory leak on Windows with MKL, when there are less chunks than available threads. You can avoid it by setting the environment variable OMP_NUM_THREADS=8.\n",
      "  warnings.warn(\n"
     ]
    },
    {
     "name": "stdout",
     "output_type": "stream",
     "text": [
      "Training PQ on cluster 2, segment 4, data shape: (1959, 48)\n"
     ]
    },
    {
     "name": "stderr",
     "output_type": "stream",
     "text": [
      "c:\\Users\\billya\\AppData\\Local\\miniconda3\\Lib\\site-packages\\sklearn\\cluster\\_kmeans.py:1426: UserWarning: KMeans is known to have a memory leak on Windows with MKL, when there are less chunks than available threads. You can avoid it by setting the environment variable OMP_NUM_THREADS=8.\n",
      "  warnings.warn(\n"
     ]
    },
    {
     "name": "stdout",
     "output_type": "stream",
     "text": [
      "Training PQ on cluster 2, segment 5, data shape: (1959, 48)\n"
     ]
    },
    {
     "name": "stderr",
     "output_type": "stream",
     "text": [
      "c:\\Users\\billya\\AppData\\Local\\miniconda3\\Lib\\site-packages\\sklearn\\cluster\\_kmeans.py:1426: UserWarning: KMeans is known to have a memory leak on Windows with MKL, when there are less chunks than available threads. You can avoid it by setting the environment variable OMP_NUM_THREADS=8.\n",
      "  warnings.warn(\n"
     ]
    },
    {
     "name": "stdout",
     "output_type": "stream",
     "text": [
      "Training PQ on cluster 2, segment 6, data shape: (1959, 48)\n"
     ]
    },
    {
     "name": "stderr",
     "output_type": "stream",
     "text": [
      "c:\\Users\\billya\\AppData\\Local\\miniconda3\\Lib\\site-packages\\sklearn\\cluster\\_kmeans.py:1426: UserWarning: KMeans is known to have a memory leak on Windows with MKL, when there are less chunks than available threads. You can avoid it by setting the environment variable OMP_NUM_THREADS=8.\n",
      "  warnings.warn(\n"
     ]
    },
    {
     "name": "stdout",
     "output_type": "stream",
     "text": [
      "Training PQ on cluster 2, segment 7, data shape: (1959, 48)\n"
     ]
    },
    {
     "name": "stderr",
     "output_type": "stream",
     "text": [
      "c:\\Users\\billya\\AppData\\Local\\miniconda3\\Lib\\site-packages\\sklearn\\cluster\\_kmeans.py:1426: UserWarning: KMeans is known to have a memory leak on Windows with MKL, when there are less chunks than available threads. You can avoid it by setting the environment variable OMP_NUM_THREADS=8.\n",
      "  warnings.warn(\n"
     ]
    },
    {
     "name": "stdout",
     "output_type": "stream",
     "text": [
      "Training PQ on cluster 3, segment 0, data shape: (2938, 48)\n",
      "Training PQ on cluster 3, segment 1, data shape: (2938, 48)\n",
      "Training PQ on cluster 3, segment 2, data shape: (2938, 48)\n",
      "Training PQ on cluster 3, segment 3, data shape: (2938, 48)\n",
      "Training PQ on cluster 3, segment 4, data shape: (2938, 48)\n",
      "Training PQ on cluster 3, segment 5, data shape: (2938, 48)\n",
      "Training PQ on cluster 3, segment 6, data shape: (2938, 48)\n",
      "Training PQ on cluster 3, segment 7, data shape: (2938, 48)\n",
      "Training PQ on cluster 4, segment 0, data shape: (2115, 48)\n"
     ]
    },
    {
     "name": "stderr",
     "output_type": "stream",
     "text": [
      "c:\\Users\\billya\\AppData\\Local\\miniconda3\\Lib\\site-packages\\sklearn\\cluster\\_kmeans.py:1426: UserWarning: KMeans is known to have a memory leak on Windows with MKL, when there are less chunks than available threads. You can avoid it by setting the environment variable OMP_NUM_THREADS=9.\n",
      "  warnings.warn(\n"
     ]
    },
    {
     "name": "stdout",
     "output_type": "stream",
     "text": [
      "Training PQ on cluster 4, segment 1, data shape: (2115, 48)\n"
     ]
    },
    {
     "name": "stderr",
     "output_type": "stream",
     "text": [
      "c:\\Users\\billya\\AppData\\Local\\miniconda3\\Lib\\site-packages\\sklearn\\cluster\\_kmeans.py:1426: UserWarning: KMeans is known to have a memory leak on Windows with MKL, when there are less chunks than available threads. You can avoid it by setting the environment variable OMP_NUM_THREADS=9.\n",
      "  warnings.warn(\n"
     ]
    },
    {
     "name": "stdout",
     "output_type": "stream",
     "text": [
      "Training PQ on cluster 4, segment 2, data shape: (2115, 48)\n"
     ]
    },
    {
     "name": "stderr",
     "output_type": "stream",
     "text": [
      "c:\\Users\\billya\\AppData\\Local\\miniconda3\\Lib\\site-packages\\sklearn\\cluster\\_kmeans.py:1426: UserWarning: KMeans is known to have a memory leak on Windows with MKL, when there are less chunks than available threads. You can avoid it by setting the environment variable OMP_NUM_THREADS=9.\n",
      "  warnings.warn(\n"
     ]
    },
    {
     "name": "stdout",
     "output_type": "stream",
     "text": [
      "Training PQ on cluster 4, segment 3, data shape: (2115, 48)\n"
     ]
    },
    {
     "name": "stderr",
     "output_type": "stream",
     "text": [
      "c:\\Users\\billya\\AppData\\Local\\miniconda3\\Lib\\site-packages\\sklearn\\cluster\\_kmeans.py:1426: UserWarning: KMeans is known to have a memory leak on Windows with MKL, when there are less chunks than available threads. You can avoid it by setting the environment variable OMP_NUM_THREADS=9.\n",
      "  warnings.warn(\n"
     ]
    },
    {
     "name": "stdout",
     "output_type": "stream",
     "text": [
      "Training PQ on cluster 4, segment 4, data shape: (2115, 48)\n"
     ]
    },
    {
     "name": "stderr",
     "output_type": "stream",
     "text": [
      "c:\\Users\\billya\\AppData\\Local\\miniconda3\\Lib\\site-packages\\sklearn\\cluster\\_kmeans.py:1426: UserWarning: KMeans is known to have a memory leak on Windows with MKL, when there are less chunks than available threads. You can avoid it by setting the environment variable OMP_NUM_THREADS=9.\n",
      "  warnings.warn(\n"
     ]
    },
    {
     "name": "stdout",
     "output_type": "stream",
     "text": [
      "Training PQ on cluster 4, segment 5, data shape: (2115, 48)\n"
     ]
    },
    {
     "name": "stderr",
     "output_type": "stream",
     "text": [
      "c:\\Users\\billya\\AppData\\Local\\miniconda3\\Lib\\site-packages\\sklearn\\cluster\\_kmeans.py:1426: UserWarning: KMeans is known to have a memory leak on Windows with MKL, when there are less chunks than available threads. You can avoid it by setting the environment variable OMP_NUM_THREADS=9.\n",
      "  warnings.warn(\n"
     ]
    },
    {
     "name": "stdout",
     "output_type": "stream",
     "text": [
      "Training PQ on cluster 4, segment 6, data shape: (2115, 48)\n"
     ]
    },
    {
     "name": "stderr",
     "output_type": "stream",
     "text": [
      "c:\\Users\\billya\\AppData\\Local\\miniconda3\\Lib\\site-packages\\sklearn\\cluster\\_kmeans.py:1426: UserWarning: KMeans is known to have a memory leak on Windows with MKL, when there are less chunks than available threads. You can avoid it by setting the environment variable OMP_NUM_THREADS=9.\n",
      "  warnings.warn(\n"
     ]
    },
    {
     "name": "stdout",
     "output_type": "stream",
     "text": [
      "Training PQ on cluster 4, segment 7, data shape: (2115, 48)\n"
     ]
    },
    {
     "name": "stderr",
     "output_type": "stream",
     "text": [
      "c:\\Users\\billya\\AppData\\Local\\miniconda3\\Lib\\site-packages\\sklearn\\cluster\\_kmeans.py:1426: UserWarning: KMeans is known to have a memory leak on Windows with MKL, when there are less chunks than available threads. You can avoid it by setting the environment variable OMP_NUM_THREADS=9.\n",
      "  warnings.warn(\n"
     ]
    },
    {
     "name": "stdout",
     "output_type": "stream",
     "text": [
      "Training PQ on cluster 5, segment 0, data shape: (716, 48)\n",
      "Training PQ on cluster 5, segment 1, data shape: (716, 48)\n"
     ]
    },
    {
     "name": "stderr",
     "output_type": "stream",
     "text": [
      "c:\\Users\\billya\\AppData\\Local\\miniconda3\\Lib\\site-packages\\sklearn\\cluster\\_kmeans.py:1426: UserWarning: KMeans is known to have a memory leak on Windows with MKL, when there are less chunks than available threads. You can avoid it by setting the environment variable OMP_NUM_THREADS=3.\n",
      "  warnings.warn(\n",
      "c:\\Users\\billya\\AppData\\Local\\miniconda3\\Lib\\site-packages\\sklearn\\cluster\\_kmeans.py:1426: UserWarning: KMeans is known to have a memory leak on Windows with MKL, when there are less chunks than available threads. You can avoid it by setting the environment variable OMP_NUM_THREADS=3.\n",
      "  warnings.warn(\n"
     ]
    },
    {
     "name": "stdout",
     "output_type": "stream",
     "text": [
      "Training PQ on cluster 5, segment 2, data shape: (716, 48)\n",
      "Training PQ on cluster 5, segment 3, data shape: (716, 48)\n"
     ]
    },
    {
     "name": "stderr",
     "output_type": "stream",
     "text": [
      "c:\\Users\\billya\\AppData\\Local\\miniconda3\\Lib\\site-packages\\sklearn\\cluster\\_kmeans.py:1426: UserWarning: KMeans is known to have a memory leak on Windows with MKL, when there are less chunks than available threads. You can avoid it by setting the environment variable OMP_NUM_THREADS=3.\n",
      "  warnings.warn(\n",
      "c:\\Users\\billya\\AppData\\Local\\miniconda3\\Lib\\site-packages\\sklearn\\cluster\\_kmeans.py:1426: UserWarning: KMeans is known to have a memory leak on Windows with MKL, when there are less chunks than available threads. You can avoid it by setting the environment variable OMP_NUM_THREADS=3.\n",
      "  warnings.warn(\n"
     ]
    },
    {
     "name": "stdout",
     "output_type": "stream",
     "text": [
      "Training PQ on cluster 5, segment 4, data shape: (716, 48)\n",
      "Training PQ on cluster 5, segment 5, data shape: (716, 48)\n"
     ]
    },
    {
     "name": "stderr",
     "output_type": "stream",
     "text": [
      "c:\\Users\\billya\\AppData\\Local\\miniconda3\\Lib\\site-packages\\sklearn\\cluster\\_kmeans.py:1426: UserWarning: KMeans is known to have a memory leak on Windows with MKL, when there are less chunks than available threads. You can avoid it by setting the environment variable OMP_NUM_THREADS=3.\n",
      "  warnings.warn(\n",
      "c:\\Users\\billya\\AppData\\Local\\miniconda3\\Lib\\site-packages\\sklearn\\cluster\\_kmeans.py:1426: UserWarning: KMeans is known to have a memory leak on Windows with MKL, when there are less chunks than available threads. You can avoid it by setting the environment variable OMP_NUM_THREADS=3.\n",
      "  warnings.warn(\n"
     ]
    },
    {
     "name": "stdout",
     "output_type": "stream",
     "text": [
      "Training PQ on cluster 5, segment 6, data shape: (716, 48)\n",
      "Training PQ on cluster 5, segment 7, data shape: (716, 48)\n"
     ]
    },
    {
     "name": "stderr",
     "output_type": "stream",
     "text": [
      "c:\\Users\\billya\\AppData\\Local\\miniconda3\\Lib\\site-packages\\sklearn\\cluster\\_kmeans.py:1426: UserWarning: KMeans is known to have a memory leak on Windows with MKL, when there are less chunks than available threads. You can avoid it by setting the environment variable OMP_NUM_THREADS=3.\n",
      "  warnings.warn(\n",
      "c:\\Users\\billya\\AppData\\Local\\miniconda3\\Lib\\site-packages\\sklearn\\cluster\\_kmeans.py:1426: UserWarning: KMeans is known to have a memory leak on Windows with MKL, when there are less chunks than available threads. You can avoid it by setting the environment variable OMP_NUM_THREADS=3.\n",
      "  warnings.warn(\n"
     ]
    },
    {
     "name": "stdout",
     "output_type": "stream",
     "text": [
      "Training PQ on cluster 6, segment 0, data shape: (2595, 48)\n",
      "Training PQ on cluster 6, segment 1, data shape: (2595, 48)\n",
      "Training PQ on cluster 6, segment 2, data shape: (2595, 48)\n",
      "Training PQ on cluster 6, segment 3, data shape: (2595, 48)\n",
      "Training PQ on cluster 6, segment 4, data shape: (2595, 48)\n",
      "Training PQ on cluster 6, segment 5, data shape: (2595, 48)\n",
      "Training PQ on cluster 6, segment 6, data shape: (2595, 48)\n",
      "Training PQ on cluster 6, segment 7, data shape: (2595, 48)\n",
      "Training PQ on cluster 7, segment 0, data shape: (2270, 48)\n"
     ]
    },
    {
     "name": "stderr",
     "output_type": "stream",
     "text": [
      "c:\\Users\\billya\\AppData\\Local\\miniconda3\\Lib\\site-packages\\sklearn\\cluster\\_kmeans.py:1426: UserWarning: KMeans is known to have a memory leak on Windows with MKL, when there are less chunks than available threads. You can avoid it by setting the environment variable OMP_NUM_THREADS=9.\n",
      "  warnings.warn(\n"
     ]
    },
    {
     "name": "stdout",
     "output_type": "stream",
     "text": [
      "Training PQ on cluster 7, segment 1, data shape: (2270, 48)\n"
     ]
    },
    {
     "name": "stderr",
     "output_type": "stream",
     "text": [
      "c:\\Users\\billya\\AppData\\Local\\miniconda3\\Lib\\site-packages\\sklearn\\cluster\\_kmeans.py:1426: UserWarning: KMeans is known to have a memory leak on Windows with MKL, when there are less chunks than available threads. You can avoid it by setting the environment variable OMP_NUM_THREADS=9.\n",
      "  warnings.warn(\n"
     ]
    },
    {
     "name": "stdout",
     "output_type": "stream",
     "text": [
      "Training PQ on cluster 7, segment 2, data shape: (2270, 48)\n"
     ]
    },
    {
     "name": "stderr",
     "output_type": "stream",
     "text": [
      "c:\\Users\\billya\\AppData\\Local\\miniconda3\\Lib\\site-packages\\sklearn\\cluster\\_kmeans.py:1426: UserWarning: KMeans is known to have a memory leak on Windows with MKL, when there are less chunks than available threads. You can avoid it by setting the environment variable OMP_NUM_THREADS=9.\n",
      "  warnings.warn(\n"
     ]
    },
    {
     "name": "stdout",
     "output_type": "stream",
     "text": [
      "Training PQ on cluster 7, segment 3, data shape: (2270, 48)\n"
     ]
    },
    {
     "name": "stderr",
     "output_type": "stream",
     "text": [
      "c:\\Users\\billya\\AppData\\Local\\miniconda3\\Lib\\site-packages\\sklearn\\cluster\\_kmeans.py:1426: UserWarning: KMeans is known to have a memory leak on Windows with MKL, when there are less chunks than available threads. You can avoid it by setting the environment variable OMP_NUM_THREADS=9.\n",
      "  warnings.warn(\n"
     ]
    },
    {
     "name": "stdout",
     "output_type": "stream",
     "text": [
      "Training PQ on cluster 7, segment 4, data shape: (2270, 48)\n"
     ]
    },
    {
     "name": "stderr",
     "output_type": "stream",
     "text": [
      "c:\\Users\\billya\\AppData\\Local\\miniconda3\\Lib\\site-packages\\sklearn\\cluster\\_kmeans.py:1426: UserWarning: KMeans is known to have a memory leak on Windows with MKL, when there are less chunks than available threads. You can avoid it by setting the environment variable OMP_NUM_THREADS=9.\n",
      "  warnings.warn(\n"
     ]
    },
    {
     "name": "stdout",
     "output_type": "stream",
     "text": [
      "Training PQ on cluster 7, segment 5, data shape: (2270, 48)\n"
     ]
    },
    {
     "name": "stderr",
     "output_type": "stream",
     "text": [
      "c:\\Users\\billya\\AppData\\Local\\miniconda3\\Lib\\site-packages\\sklearn\\cluster\\_kmeans.py:1426: UserWarning: KMeans is known to have a memory leak on Windows with MKL, when there are less chunks than available threads. You can avoid it by setting the environment variable OMP_NUM_THREADS=9.\n",
      "  warnings.warn(\n"
     ]
    },
    {
     "name": "stdout",
     "output_type": "stream",
     "text": [
      "Training PQ on cluster 7, segment 6, data shape: (2270, 48)\n"
     ]
    },
    {
     "name": "stderr",
     "output_type": "stream",
     "text": [
      "c:\\Users\\billya\\AppData\\Local\\miniconda3\\Lib\\site-packages\\sklearn\\cluster\\_kmeans.py:1426: UserWarning: KMeans is known to have a memory leak on Windows with MKL, when there are less chunks than available threads. You can avoid it by setting the environment variable OMP_NUM_THREADS=9.\n",
      "  warnings.warn(\n"
     ]
    },
    {
     "name": "stdout",
     "output_type": "stream",
     "text": [
      "Training PQ on cluster 7, segment 7, data shape: (2270, 48)\n"
     ]
    },
    {
     "name": "stderr",
     "output_type": "stream",
     "text": [
      "c:\\Users\\billya\\AppData\\Local\\miniconda3\\Lib\\site-packages\\sklearn\\cluster\\_kmeans.py:1426: UserWarning: KMeans is known to have a memory leak on Windows with MKL, when there are less chunks than available threads. You can avoid it by setting the environment variable OMP_NUM_THREADS=9.\n",
      "  warnings.warn(\n"
     ]
    },
    {
     "name": "stdout",
     "output_type": "stream",
     "text": [
      "Adding data to the index...\n",
      "Encoding cluster 0, data shape before encode: (2990, 384)\n",
      "Encoding segment 0, data shape: (2990, 48)\n",
      "Encoding segment 1, data shape: (2990, 48)\n",
      "Encoding segment 2, data shape: (2990, 48)\n",
      "Encoding segment 3, data shape: (2990, 48)\n",
      "Encoding segment 4, data shape: (2990, 48)\n",
      "Encoding segment 5, data shape: (2990, 48)\n",
      "Encoding segment 6, data shape: (2990, 48)\n",
      "Encoding segment 7, data shape: (2990, 48)\n",
      "Encoding cluster 1, data shape before encode: (4417, 384)\n",
      "Encoding segment 0, data shape: (4417, 48)\n",
      "Encoding segment 1, data shape: (4417, 48)\n",
      "Encoding segment 2, data shape: (4417, 48)\n",
      "Encoding segment 3, data shape: (4417, 48)\n",
      "Encoding segment 4, data shape: (4417, 48)\n",
      "Encoding segment 5, data shape: (4417, 48)\n",
      "Encoding segment 6, data shape: (4417, 48)\n",
      "Encoding segment 7, data shape: (4417, 48)\n",
      "Encoding cluster 2, data shape before encode: (1959, 384)\n",
      "Encoding segment 0, data shape: (1959, 48)\n",
      "Encoding segment 1, data shape: (1959, 48)\n",
      "Encoding segment 2, data shape: (1959, 48)\n",
      "Encoding segment 3, data shape: (1959, 48)\n",
      "Encoding segment 4, data shape: (1959, 48)\n",
      "Encoding segment 5, data shape: (1959, 48)\n",
      "Encoding segment 6, data shape: (1959, 48)\n",
      "Encoding segment 7, data shape: (1959, 48)\n",
      "Encoding cluster 3, data shape before encode: (2938, 384)\n",
      "Encoding segment 0, data shape: (2938, 48)\n",
      "Encoding segment 1, data shape: (2938, 48)\n",
      "Encoding segment 2, data shape: (2938, 48)\n",
      "Encoding segment 3, data shape: (2938, 48)\n",
      "Encoding segment 4, data shape: (2938, 48)\n",
      "Encoding segment 5, data shape: (2938, 48)\n",
      "Encoding segment 6, data shape: (2938, 48)\n",
      "Encoding segment 7, data shape: (2938, 48)\n",
      "Encoding cluster 4, data shape before encode: (2115, 384)\n",
      "Encoding segment 0, data shape: (2115, 48)\n",
      "Encoding segment 1, data shape: (2115, 48)\n",
      "Encoding segment 2, data shape: (2115, 48)\n",
      "Encoding segment 3, data shape: (2115, 48)\n",
      "Encoding segment 4, data shape: (2115, 48)\n",
      "Encoding segment 5, data shape: (2115, 48)\n",
      "Encoding segment 6, data shape: (2115, 48)\n",
      "Encoding segment 7, data shape: (2115, 48)\n",
      "Encoding cluster 5, data shape before encode: (716, 384)\n",
      "Encoding segment 0, data shape: (716, 48)\n",
      "Encoding segment 1, data shape: (716, 48)\n",
      "Encoding segment 2, data shape: (716, 48)\n",
      "Encoding segment 3, data shape: (716, 48)\n",
      "Encoding segment 4, data shape: (716, 48)\n",
      "Encoding segment 5, data shape: (716, 48)\n",
      "Encoding segment 6, data shape: (716, 48)\n",
      "Encoding segment 7, data shape: (716, 48)\n",
      "Encoding cluster 6, data shape before encode: (2595, 384)\n",
      "Encoding segment 0, data shape: (2595, 48)\n",
      "Encoding segment 1, data shape: (2595, 48)\n",
      "Encoding segment 2, data shape: (2595, 48)\n",
      "Encoding segment 3, data shape: (2595, 48)\n",
      "Encoding segment 4, data shape: (2595, 48)\n",
      "Encoding segment 5, data shape: (2595, 48)\n",
      "Encoding segment 6, data shape: (2595, 48)\n",
      "Encoding segment 7, data shape: (2595, 48)\n",
      "Encoding cluster 7, data shape before encode: (2270, 384)\n",
      "Encoding segment 0, data shape: (2270, 48)\n",
      "Encoding segment 1, data shape: (2270, 48)\n",
      "Encoding segment 2, data shape: (2270, 48)\n",
      "Encoding segment 3, data shape: (2270, 48)\n",
      "Encoding segment 4, data shape: (2270, 48)\n",
      "Encoding segment 5, data shape: (2270, 48)\n",
      "Encoding segment 6, data shape: (2270, 48)\n",
      "Encoding segment 7, data shape: (2270, 48)\n"
     ]
    }
   ],
   "source": [
    "# Step 2: Initialize the CustomIVFPQ class with appropriate parameters\n",
    "d = train_data.shape[1]  # Dimension of the embeddings\n",
    "nlist = 8  # Number of clusters\n",
    "nprobe = 8   # Number of clusters to probe\n",
    "m = 8        # Number of segments for PQ\n",
    "\n",
    "ivfpq = CustomIVFPQ(d, nlist, nprobe, m, estimator='kmeans')\n",
    "\n",
    "# Step 3: Train the index with the training data\n",
    "print(\"Training the index...\")\n",
    "ivfpq.train(train_data)\n",
    "\n",
    "# Step 4: Add the training data to the index\n",
    "print(\"Adding data to the index...\")\n",
    "ivfpq.add(train_data)"
   ]
  },
  {
   "cell_type": "code",
   "execution_count": 6,
   "metadata": {},
   "outputs": [],
   "source": [
    "\n",
    "# Step 5: Perform a search on some test data\n",
    "k = 10  # Number of nearest neighbors to search for\n",
    "Y = train_data[:10] # Take first 5 points from the test set for demonstration\n",
    "\n",
    "distances, sorted_indices, distance_table, X = ivfpq.search(Y, k)\n"
   ]
  },
  {
   "cell_type": "code",
   "execution_count": 7,
   "metadata": {},
   "outputs": [
    {
     "data": {
      "text/plain": [
       "[array([17948, 14771,   312,  9054, 10061, 14378,     0, 17997, 10461,\n",
       "        19362]),\n",
       " array([14771, 11621,  4643,  1690, 10482, 19035, 10061,   312, 19362,\n",
       "        10929]),\n",
       " array([    2,     5,     6,     3, 17948, 17943,     4,     8,  4643,\n",
       "         4644]),\n",
       " array([    3,     2, 17948,     5,    12, 17943,  4643, 18855,     6,\n",
       "        11250]),\n",
       " array([    4,     5,     2,     6, 17948, 17943,     8, 18299,    75,\n",
       "        19636]),\n",
       " array([    2,     5,     6,     3, 17948, 17943,     4,  4643,  3577,\n",
       "         6587]),\n",
       " array([    2,     5,     6, 17943,     4,     3, 13901, 17948,     8,\n",
       "        15186]),\n",
       " array([    7, 14378, 17997,  4720, 10061,     8,  4516, 17948, 13977,\n",
       "        13480]),\n",
       " array([    8, 17997, 15300, 17948, 15267, 18016, 17943, 13265, 13542,\n",
       "            9]),\n",
       " array([    9,     2, 17948, 17997, 14294, 13542, 10061, 15461,     3,\n",
       "            5])]"
      ]
     },
     "execution_count": 7,
     "metadata": {},
     "output_type": "execute_result"
    }
   ],
   "source": [
    "sorted_indices"
   ]
  },
  {
   "cell_type": "code",
   "execution_count": 8,
   "metadata": {},
   "outputs": [
    {
     "data": {
      "text/plain": [
       "array([7230, 6117, 7328, 6132, 6567, 7989, 4836, 5189, 7176, 6743],\n",
       "      dtype=int64)"
      ]
     },
     "execution_count": 8,
     "metadata": {},
     "output_type": "execute_result"
    }
   ],
   "source": [
    "np.argsort(distance_table.flatten())[:10]"
   ]
  },
  {
   "cell_type": "code",
   "execution_count": 8,
   "metadata": {},
   "outputs": [],
   "source": [
    "import faiss \n",
    "\n",
    "index = faiss.IndexFlatL2(train_data.shape[1])\n",
    "index.train(train_data)\n",
    "index.add(train_data)"
   ]
  },
  {
   "cell_type": "code",
   "execution_count": 9,
   "metadata": {},
   "outputs": [],
   "source": [
    "dist, indices = index.search(train_data[:10], k = 10)"
   ]
  },
  {
   "cell_type": "code",
   "execution_count": 32,
   "metadata": {},
   "outputs": [
    {
     "data": {
      "text/plain": [
       "array([[    0,    10,    15, 18031,    21,     1,    19, 18032,    13,\n",
       "            7],\n",
       "       [    1, 18031,    15,     0,    10,    14, 18032,    13,    19,\n",
       "           21],\n",
       "       [    2,     6,     3,     5,     9,     4,     8,  9814,  5677,\n",
       "        17955],\n",
       "       [    3,     2,     5,     6,     9,     4,     8, 12366,  1681,\n",
       "         5865],\n",
       "       [    4,     2,     5,     6,     3, 18558,     9,  9814,  6949,\n",
       "        19622],\n",
       "       [    5,     6,     2,     3,     4, 19602, 12557,  8080, 11541,\n",
       "        14570],\n",
       "       [    6,     5,     2,     3,     4, 12948,  8335, 17077, 11313,\n",
       "         2601],\n",
       "       [    7,    21,     0,     8,    15, 18031,    10,    22,    13,\n",
       "        18032],\n",
       "       [    8,    21,     9,     7,  5677,     0,    17,    20,  5679,\n",
       "           10],\n",
       "       [    9,     8,     2,     3, 17939,  5677, 17941, 17944, 17955,\n",
       "         9814]], dtype=int64)"
      ]
     },
     "execution_count": 32,
     "metadata": {},
     "output_type": "execute_result"
    }
   ],
   "source": [
    "indices"
   ]
  },
  {
   "cell_type": "code",
   "execution_count": 33,
   "metadata": {},
   "outputs": [],
   "source": [
    "from utils.evaluation import * \n",
    "from utils.hnsw_module import *\n"
   ]
  },
  {
   "cell_type": "code",
   "execution_count": 13,
   "metadata": {},
   "outputs": [],
   "source": [
    "from tqdm import tqdm\n",
    "\n",
    "hnsw = HNSW('euclidean', m=4, ef=20)"
   ]
  },
  {
   "cell_type": "code",
   "execution_count": 14,
   "metadata": {},
   "outputs": [],
   "source": [
    "evaluate = KNNEvaluation(train_data, test_data,hnsw, k=10, ef=200, metric='euclidean')"
   ]
  },
  {
   "cell_type": "code",
   "execution_count": 15,
   "metadata": {},
   "outputs": [
    {
     "name": "stdout",
     "output_type": "stream",
     "text": [
      "21.8 ms ± 457 µs per loop (mean ± std. dev. of 7 runs, 10 loops each)\n"
     ]
    }
   ],
   "source": [
    "%%timeit\n",
    "\n",
    "evaluate.brute_force_knn(train_data, test_data[100:101], k = 10, metric = \"euclidean\")"
   ]
  },
  {
   "cell_type": "code",
   "execution_count": 10,
   "metadata": {},
   "outputs": [],
   "source": [
    "def evaluate_recall(indices_brute,indices_hnsw):\n",
    "    recall_at_1 = 0\n",
    "    recall_at_10 = 0\n",
    "    smetric = 0\n",
    "\n",
    "    for i in range(len(indices_brute)):\n",
    "\n",
    "        # Evaluate recall@1\n",
    "        if indices_brute[i][0] == indices_hnsw[i][0]:\n",
    "            recall_at_1 += 1\n",
    "\n",
    "        # Evaluate recall@10\n",
    "    \n",
    "        for t in range(10):\n",
    "            for y in range(10):\n",
    "                if indices_hnsw[i][t] == indices_brute[i][y]:\n",
    "                    recall_at_10 += 1 \n",
    "\n",
    "    \n",
    "        for t in range(9):\n",
    "            for y in range(9):\n",
    "                if indices_hnsw[i][t] == indices_brute[i][y]:\n",
    "                    smetric += 9 - y\n",
    "    \n",
    "    smetric /= len(indices_brute)\n",
    "    recall_at_1 /= len(indices_brute)\n",
    "    recall_at_10 /= len(indices_brute)  * 10 \n",
    "\n",
    "    return recall_at_1, recall_at_10, smetric"
   ]
  },
  {
   "cell_type": "code",
   "execution_count": 11,
   "metadata": {},
   "outputs": [
    {
     "data": {
      "text/plain": [
       "(0.6, 0.32, 22.2)"
      ]
     },
     "execution_count": 11,
     "metadata": {},
     "output_type": "execute_result"
    }
   ],
   "source": [
    " evaluate_recall(indices, sorted_indices)"
   ]
  },
  {
   "cell_type": "code",
   "execution_count": 12,
   "metadata": {},
   "outputs": [],
   "source": [
    "distances, sorted_indices, distance_table, X = ivfpq.search(train_data[1], k)"
   ]
  },
  {
   "cell_type": "code",
   "execution_count": 18,
   "metadata": {},
   "outputs": [
    {
     "data": {
      "text/plain": [
       "[array([3.019186 , 3.0505903, 3.0509636, 3.0580797, 3.059043 , 3.0628202,\n",
       "        3.07549  , 3.0767825, 3.0770798, 3.0851982], dtype=float32)]"
      ]
     },
     "execution_count": 18,
     "metadata": {},
     "output_type": "execute_result"
    }
   ],
   "source": [
    "distances"
   ]
  },
  {
   "cell_type": "code",
   "execution_count": 14,
   "metadata": {},
   "outputs": [
    {
     "data": {
      "text/plain": [
       "[array([14771, 11621,  4643,  1690, 10482, 19035, 10061,   312, 19362,\n",
       "        10929])]"
      ]
     },
     "execution_count": 14,
     "metadata": {},
     "output_type": "execute_result"
    }
   ],
   "source": [
    "sorted_indices"
   ]
  },
  {
   "cell_type": "code",
   "execution_count": 20,
   "metadata": {},
   "outputs": [
    {
     "data": {
      "text/plain": [
       "array([108,  77,  18,  23, 171, 215,  71,  11], dtype=uint8)"
      ]
     },
     "execution_count": 20,
     "metadata": {},
     "output_type": "execute_result"
    }
   ],
   "source": [
    "X[10,:]"
   ]
  },
  {
   "cell_type": "code",
   "execution_count": 17,
   "metadata": {},
   "outputs": [
    {
     "data": {
      "text/plain": [
       "2.433116316795349"
      ]
     },
     "execution_count": 17,
     "metadata": {},
     "output_type": "execute_result"
    }
   ],
   "source": [
    "sum(np.sort(distance_table.flatten())[:8])"
   ]
  },
  {
   "cell_type": "code",
   "execution_count": null,
   "metadata": {},
   "outputs": [],
   "source": []
  }
 ],
 "metadata": {
  "kernelspec": {
   "display_name": "base",
   "language": "python",
   "name": "python3"
  },
  "language_info": {
   "codemirror_mode": {
    "name": "ipython",
    "version": 3
   },
   "file_extension": ".py",
   "mimetype": "text/x-python",
   "name": "python",
   "nbconvert_exporter": "python",
   "pygments_lexer": "ipython3",
   "version": "3.12.2"
  }
 },
 "nbformat": 4,
 "nbformat_minor": 2
}
